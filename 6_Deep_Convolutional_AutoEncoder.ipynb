{
  "nbformat": 4,
  "nbformat_minor": 0,
  "metadata": {
    "colab": {
      "provenance": []
    },
    "kernelspec": {
      "name": "python3",
      "display_name": "Python 3"
    },
    "language_info": {
      "name": "python"
    }
  },
  "cells": [
    {
      "cell_type": "code",
      "execution_count": 17,
      "metadata": {
        "id": "X-ey1WPWo8AX"
      },
      "outputs": [],
      "source": [
        "from keras.datasets import mnist\n",
        "from keras.models import Model\n",
        "from keras.layers import Conv2D, MaxPool2D, UpSampling2D, Input\n",
        "\n",
        "import cv2\n",
        "import os\n",
        "import numpy as np\n",
        "import tensorflow as tf\n",
        "import matplotlib.pyplot as plt"
      ]
    },
    {
      "cell_type": "code",
      "source": [
        "(X_train, Y_train), (X_test, Y_test) = mnist.load_data()\n",
        "X_train.shape"
      ],
      "metadata": {
        "id": "eyIZh_1grReH"
      },
      "execution_count": null,
      "outputs": []
    },
    {
      "cell_type": "code",
      "source": [
        "plt.imshow(X_train[0], cmap=\"gray\")"
      ],
      "metadata": {
        "colab": {
          "base_uri": "https://localhost:8080/",
          "height": 282
        },
        "id": "bPc1VP2rrjnz",
        "outputId": "a0d7707c-d283-4928-ed9a-47dc74055d03"
      },
      "execution_count": 19,
      "outputs": [
        {
          "output_type": "execute_result",
          "data": {
            "text/plain": [
              "<matplotlib.image.AxesImage at 0x7f7b2ac66040>"
            ]
          },
          "metadata": {},
          "execution_count": 19
        },
        {
          "output_type": "display_data",
          "data": {
            "text/plain": [
              "<Figure size 432x288 with 1 Axes>"
            ],
            "image/png": "[encoded data removed]"
          },
          "metadata": {
            "needs_background": "light"
          }
        }
      ]
    },
    {
      "cell_type": "code",
      "source": [
        "X_train = X_train / 255\n",
        "X_test = X_test / 255\n",
        "\n",
        "X_train = X_train.reshape(X_train.shape[0], 28,28,1)\n",
        "X_test = X_test.reshape(X_test.shape[0], 28,28,1)"
      ],
      "metadata": {
        "id": "zKsLHDp2uVVh"
      },
      "execution_count": 20,
      "outputs": []
    },
    {
      "cell_type": "markdown",
      "source": [
        "# Model"
      ],
      "metadata": {
        "id": "YvIYTFmWvPUE"
      }
    },
    {
      "cell_type": "code",
      "source": [
        "Input_layer = Input(shape=(28,28,1))\n",
        "\n",
        "# Encoder\n",
        "x = Conv2D(16,(3,3), activation=\"relu\", padding=\"same\")(Input_layer)\n",
        "x = MaxPool2D(pool_size=(2,2),padding=\"same\")(x)\n",
        "x = Conv2D(8,(3,3), activation=\"relu\", padding=\"same\")(x)\n",
        "x = MaxPool2D(pool_size=(2,2),padding=\"same\")(x)\n",
        "x = Conv2D(8,(3,3), activation=\"relu\", padding=\"same\")(x)\n",
        "encoded = MaxPool2D(pool_size=(2,2),padding=\"same\")(x)\n",
        "\n",
        "\n",
        "# Decoder\n",
        "x = Conv2D(8, (3,3), activation=\"relu\", padding=\"same\")(encoded)\n",
        "x = UpSampling2D((2,2))(x)\n",
        "x = Conv2D(8, (3,3), activation=\"relu\", padding=\"same\")(x)\n",
        "x = UpSampling2D((2,2))(x)\n",
        "x = Conv2D(16, (3,3), activation=\"relu\")(x)\n",
        "x = UpSampling2D((2,2))(x)\n",
        "decoded = Conv2D(1,(3,3), activation=\"relu\", padding=\"same\")(x)"
      ],
      "metadata": {
        "id": "ahTJNV9AvSKk"
      },
      "execution_count": 27,
      "outputs": []
    },
    {
      "cell_type": "code",
      "source": [
        "autoencoder = Model(Input_layer, decoded)"
      ],
      "metadata": {
        "id": "SMlD8XIew0Bt"
      },
      "execution_count": 28,
      "outputs": []
    },
    {
      "cell_type": "code",
      "source": [
        "autoencoder.summary()"
      ],
      "metadata": {
        "colab": {
          "base_uri": "https://localhost:8080/"
        },
        "id": "vZetNcatw67j",
        "outputId": "bc344b3a-04ea-4f4e-f6cf-4f42bfb6468b"
      },
      "execution_count": 29,
      "outputs": [
        {
          "output_type": "stream",
          "name": "stdout",
          "text": [
            "Model: \"model_2\"\n",
            "_________________________________________________________________\n",
            " Layer (type)                Output Shape              Param #   \n",
            "=================================================================\n",
            " input_3 (InputLayer)        [(None, 28, 28, 1)]       0         \n",
            "                                                                 \n",
            " conv2d_14 (Conv2D)          (None, 28, 28, 16)        160       \n",
            "                                                                 \n",
            " max_pooling2d_6 (MaxPooling  (None, 14, 14, 16)       0         \n",
            " 2D)                                                             \n",
            "                                                                 \n",
            " conv2d_15 (Conv2D)          (None, 14, 14, 8)         1160      \n",
            "                                                                 \n",
            " max_pooling2d_7 (MaxPooling  (None, 7, 7, 8)          0         \n",
            " 2D)                                                             \n",
            "                                                                 \n",
            " conv2d_16 (Conv2D)          (None, 7, 7, 8)           584       \n",
            "                                                                 \n",
            " max_pooling2d_8 (MaxPooling  (None, 4, 4, 8)          0         \n",
            " 2D)                                                             \n",
            "                                                                 \n",
            " conv2d_17 (Conv2D)          (None, 4, 4, 8)           584       \n",
            "                                                                 \n",
            " up_sampling2d_6 (UpSampling  (None, 8, 8, 8)          0         \n",
            " 2D)                                                             \n",
            "                                                                 \n",
            " conv2d_18 (Conv2D)          (None, 8, 8, 8)           584       \n",
            "                                                                 \n",
            " up_sampling2d_7 (UpSampling  (None, 16, 16, 8)        0         \n",
            " 2D)                                                             \n",
            "                                                                 \n",
            " conv2d_19 (Conv2D)          (None, 14, 14, 16)        1168      \n",
            "                                                                 \n",
            " up_sampling2d_8 (UpSampling  (None, 28, 28, 16)       0         \n",
            " 2D)                                                             \n",
            "                                                                 \n",
            " conv2d_20 (Conv2D)          (None, 28, 28, 1)         145       \n",
            "                                                                 \n",
            "=================================================================\n",
            "Total params: 4,385\n",
            "Trainable params: 4,385\n",
            "Non-trainable params: 0\n",
            "_________________________________________________________________\n"
          ]
        }
      ]
    },
    {
      "cell_type": "code",
      "source": [
        "autoencoder.compile(loss=\"binary_crossentropy\", optimizer=\"adam\")"
      ],
      "metadata": {
        "id": "Vjk_WmHUxfGy"
      },
      "execution_count": 32,
      "outputs": []
    },
    {
      "cell_type": "code",
      "source": [
        "history = autoencoder.fit(X_train, X_train, epochs=20, batch_size=128, validation_data=(X_test,X_test))"
      ],
      "metadata": {
        "colab": {
          "base_uri": "https://localhost:8080/"
        },
        "id": "3Uyc-HioyB-7",
        "outputId": "e413f56b-4d23-483b-fb96-a37d3952c003"
      },
      "execution_count": 34,
      "outputs": [
        {
          "output_type": "stream",
          "name": "stdout",
          "text": [
            "Epoch 1/20\n",
            "469/469 [==============================] - 90s 191ms/step - loss: 0.1971 - val_loss: 0.1801\n",
            "Epoch 2/20\n",
            "469/469 [==============================] - 84s 180ms/step - loss: 0.1749 - val_loss: 0.1654\n",
            "Epoch 3/20\n",
            "469/469 [==============================] - 84s 180ms/step - loss: 0.1781 - val_loss: 0.1722\n",
            "Epoch 4/20\n",
            "469/469 [==============================] - 88s 187ms/step - loss: 0.1822 - val_loss: 0.1734\n",
            "Epoch 5/20\n",
            "469/469 [==============================] - 85s 180ms/step - loss: 0.1630 - val_loss: 0.1546\n",
            "Epoch 6/20\n",
            "469/469 [==============================] - 87s 186ms/step - loss: 0.3311 - val_loss: 0.2189\n",
            "Epoch 7/20\n",
            "469/469 [==============================] - 84s 180ms/step - loss: 0.2029 - val_loss: 0.1901\n",
            "Epoch 8/20\n",
            "469/469 [==============================] - 90s 191ms/step - loss: 0.2101 - val_loss: 0.1927\n",
            "Epoch 9/20\n",
            "469/469 [==============================] - 89s 190ms/step - loss: 0.1909 - val_loss: 0.1806\n",
            "Epoch 10/20\n",
            "469/469 [==============================] - 90s 192ms/step - loss: 0.1768 - val_loss: 0.1723\n",
            "Epoch 11/20\n",
            "469/469 [==============================] - 90s 193ms/step - loss: 0.1840 - val_loss: 0.1794\n",
            "Epoch 12/20\n",
            "469/469 [==============================] - 90s 192ms/step - loss: 0.1879 - val_loss: 0.1771\n",
            "Epoch 13/20\n",
            "469/469 [==============================] - 88s 187ms/step - loss: 0.1694 - val_loss: 0.1730\n",
            "Epoch 14/20\n",
            "469/469 [==============================] - 90s 191ms/step - loss: 0.1730 - val_loss: 0.1692\n",
            "Epoch 15/20\n",
            "469/469 [==============================] - 91s 194ms/step - loss: 0.1839 - val_loss: 0.1849\n",
            "Epoch 16/20\n",
            "469/469 [==============================] - 90s 192ms/step - loss: 0.1788 - val_loss: 0.1621\n",
            "Epoch 17/20\n",
            "469/469 [==============================] - 89s 190ms/step - loss: 0.1608 - val_loss: 0.1918\n",
            "Epoch 18/20\n",
            "469/469 [==============================] - 90s 192ms/step - loss: 0.1765 - val_loss: 0.1696\n",
            "Epoch 19/20\n",
            "469/469 [==============================] - 89s 191ms/step - loss: 0.1571 - val_loss: 0.1563\n",
            "Epoch 20/20\n",
            "469/469 [==============================] - 88s 187ms/step - loss: 0.1762 - val_loss: 0.1691\n"
          ]
        }
      ]
    },
    {
      "cell_type": "code",
      "source": [
        "encoder = Model(Input_layer, encoded)\n",
        "\n",
        "decoder_layer = Input(shape = (4,4,8))\n",
        "\n",
        "decoder = autoencoder.layers[7](decoder_layer)\n",
        "\n",
        "for layer in autoencoder.layers[8:]:\n",
        "  decoder = layer(decoder)\n",
        "\n",
        "decoder = Model(decoder_layer, decoder)\n",
        "decoder.summary()"
      ],
      "metadata": {
        "colab": {
          "base_uri": "https://localhost:8080/"
        },
        "id": "yo2p5P3iLEzG",
        "outputId": "978fe34c-3c45-4eb9-d463-61e0d892c864"
      },
      "execution_count": 36,
      "outputs": [
        {
          "output_type": "stream",
          "name": "stdout",
          "text": [
            "Model: \"model_4\"\n",
            "_________________________________________________________________\n",
            " Layer (type)                Output Shape              Param #   \n",
            "=================================================================\n",
            " input_4 (InputLayer)        [(None, 4, 4, 8)]         0         \n",
            "                                                                 \n",
            " conv2d_17 (Conv2D)          (None, 4, 4, 8)           584       \n",
            "                                                                 \n",
            " up_sampling2d_6 (UpSampling  (None, 8, 8, 8)          0         \n",
            " 2D)                                                             \n",
            "                                                                 \n",
            " conv2d_18 (Conv2D)          (None, 8, 8, 8)           584       \n",
            "                                                                 \n",
            " up_sampling2d_7 (UpSampling  (None, 16, 16, 8)        0         \n",
            " 2D)                                                             \n",
            "                                                                 \n",
            " conv2d_19 (Conv2D)          (None, 14, 14, 16)        1168      \n",
            "                                                                 \n",
            " up_sampling2d_8 (UpSampling  (None, 28, 28, 16)       0         \n",
            " 2D)                                                             \n",
            "                                                                 \n",
            " conv2d_20 (Conv2D)          (None, 28, 28, 1)         145       \n",
            "                                                                 \n",
            "=================================================================\n",
            "Total params: 2,481\n",
            "Trainable params: 2,481\n",
            "Non-trainable params: 0\n",
            "_________________________________________________________________\n"
          ]
        }
      ]
    },
    {
      "cell_type": "code",
      "source": [
        "encoded_images = encoder.predict(X_test, verbose=1)"
      ],
      "metadata": {
        "colab": {
          "base_uri": "https://localhost:8080/"
        },
        "id": "TS-zPPolM6zS",
        "outputId": "72d34ba7-67a6-40fb-dd9a-2f929594fc30"
      },
      "execution_count": 37,
      "outputs": [
        {
          "output_type": "stream",
          "name": "stdout",
          "text": [
            "313/313 [==============================] - 4s 12ms/step\n"
          ]
        }
      ]
    },
    {
      "cell_type": "code",
      "source": [
        "decoded_images = decoder.predict(encoded_images, verbose=1)\n",
        "decoded_images.shape"
      ],
      "metadata": {
        "colab": {
          "base_uri": "https://localhost:8080/"
        },
        "id": "sENM464XNEff",
        "outputId": "4b04acc1-216f-483d-a068-0b42709a776e"
      },
      "execution_count": 41,
      "outputs": [
        {
          "output_type": "stream",
          "name": "stdout",
          "text": [
            "313/313 [==============================] - 7s 23ms/step\n"
          ]
        },
        {
          "output_type": "execute_result",
          "data": {
            "text/plain": [
              "(10000, 28, 28, 1)"
            ]
          },
          "metadata": {},
          "execution_count": 41
        }
      ]
    },
    {
      "cell_type": "code",
      "source": [
        "decoded_images = decoded_images.reshape(decoded_images.shape[0], 28,28)\n",
        "decoded_images.shape"
      ],
      "metadata": {
        "colab": {
          "base_uri": "https://localhost:8080/"
        },
        "id": "KYR231XXNj2n",
        "outputId": "9c3de1c6-b8ab-4d77-d650-bc514799abb7"
      },
      "execution_count": 42,
      "outputs": [
        {
          "output_type": "execute_result",
          "data": {
            "text/plain": [
              "(10000, 28, 28)"
            ]
          },
          "metadata": {},
          "execution_count": 42
        }
      ]
    },
    {
      "cell_type": "code",
      "source": [
        "plt.imshow(decoded_images[4], cmap=\"gray\")"
      ],
      "metadata": {
        "colab": {
          "base_uri": "https://localhost:8080/",
          "height": 282
        },
        "id": "EJeBJEo9N8AA",
        "outputId": "f6ddc686-1738-4817-d5d4-a1c161e46693"
      },
      "execution_count": 44,
      "outputs": [
        {
          "output_type": "execute_result",
          "data": {
            "text/plain": [
              "<matplotlib.image.AxesImage at 0x7f7b2e46a040>"
            ]
          },
          "metadata": {},
          "execution_count": 44
        },
        {
          "output_type": "display_data",
          "data": {
            "text/plain": [
              "<Figure size 432x288 with 1 Axes>"
            ],
            "image/png": "[encoded data removed]"
          },
          "metadata": {
            "needs_background": "light"
          }
        }
      ]
    },
    {
      "cell_type": "code",
      "source": [
        "X_test = X_test.reshape(X_test.shape[0],28,28)\n",
        "plt.imshow(X_test[4], cmap=\"gray\")"
      ],
      "metadata": {
        "colab": {
          "base_uri": "https://localhost:8080/",
          "height": 282
        },
        "id": "2_7eoSrAOSg1",
        "outputId": "48f29a48-e28f-46df-dbbf-abee8a48dbec"
      },
      "execution_count": 45,
      "outputs": [
        {
          "output_type": "execute_result",
          "data": {
            "text/plain": [
              "<matplotlib.image.AxesImage at 0x7f7b2e11a700>"
            ]
          },
          "metadata": {},
          "execution_count": 45
        },
        {
          "output_type": "display_data",
          "data": {
            "text/plain": [
              "<Figure size 432x288 with 1 Axes>"
            ],
            "image/png": "[encoded data removed]"
          },
          "metadata": {
            "needs_background": "light"
          }
        }
      ]
    }
  ]
}