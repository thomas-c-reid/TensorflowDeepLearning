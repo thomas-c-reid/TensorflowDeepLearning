{
  "nbformat": 4,
  "nbformat_minor": 0,
  "metadata": {
    "colab": {
      "provenance": [],
      "authorship_tag": "ABX9TyPMpGpQ8WpIj076m+UzyBwP",
      "include_colab_link": true
    },
    "kernelspec": {
      "name": "python3",
      "display_name": "Python 3"
    },
    "language_info": {
      "name": "python"
    }
  },
  "cells": [
    {
      "cell_type": "markdown",
      "metadata": {
        "id": "view-in-github",
        "colab_type": "text"
      },
      "source": [
        "<a href=\"https://colab.research.google.com/github/thomas-c-reid/TensorflowDeepLearning/blob/master/14_Text_prediction_using_LSTM.ipynb\" target=\"_parent\"><img src=\"https://colab.research.google.com/assets/colab-badge.svg\" alt=\"Open In Colab\"/></a>"
      ]
    },
    {
      "cell_type": "code",
      "execution_count": 17,
      "metadata": {
        "id": "a7Kde4hEDQIM"
      },
      "outputs": [],
      "source": [
        "from keras.models import Sequential\n",
        "from keras.layers import Dense, Dropout, LSTM\n",
        "from keras.optimizers import RMSprop\n",
        "import numpy as np\n",
        "import random\n",
        "import sys"
      ]
    },
    {
      "cell_type": "markdown",
      "source": [
        "**Importing data and formatting**"
      ],
      "metadata": {
        "id": "kG4xAdtNFYJd"
      }
    },
    {
      "cell_type": "code",
      "source": [
        "filename = \"JungleBook.txt\"\n",
        "raw_text = open(filename, 'r', encoding='utf-8').read().lower()\n",
        "print(len(raw_text))\n",
        "\n",
        "\n",
        "raw_text = \"\".join(C for C in raw_text if not C.isdigit())\n",
        "\n",
        "chars = sorted(list(set(raw_text)))\n",
        "print(chars)\n",
        "\n",
        "char_to_int = dict((c, i) for i,c in enumerate(chars))\n",
        "int_to_char = dict((i, c) for i,c in enumerate(chars))\n",
        "\n",
        "n_chars = len(raw_text)\n",
        "n_vocab = len(chars)\n",
        "print(\"Total Characters in the text; corpus length: \", n_chars)\n",
        "print(\"Total Vocab: \", n_vocab)"
      ],
      "metadata": {
        "colab": {
          "base_uri": "https://localhost:8080/"
        },
        "id": "ImvWHScREejX",
        "outputId": "03e3e522-bbdc-4eb8-930c-ea5109a6ac23"
      },
      "execution_count": 18,
      "outputs": [
        {
          "output_type": "stream",
          "name": "stdout",
          "text": [
            "293051\n",
            "['\\n', ' ', '!', '#', '$', '%', '(', ')', '*', ',', '-', '.', '/', ':', ';', '?', '@', '[', ']', '`', 'a', 'b', 'c', 'd', 'e', 'f', 'g', 'h', 'i', 'j', 'k', 'l', 'm', 'n', 'o', 'p', 'q', 'r', 's', 't', 'u', 'v', 'w', 'x', 'y', 'z', '‘', '’', '“', '”', '\\ufeff']\n",
            "Total Characters in the text; corpus length:  292870\n",
            "Total Vocab:  51\n"
          ]
        }
      ]
    },
    {
      "cell_type": "code",
      "source": [
        "seq_length = 60\n",
        "step = 10\n",
        "sentences = []\n",
        "next_chars = []\n",
        "for i in range(0, n_chars - seq_length, step):  \n",
        "    sentences.append(raw_text[i: i + seq_length])  #Sequence in\n",
        "    next_chars.append(raw_text[i + seq_length])  #Sequence out\n",
        "n_patterns = len(sentences)    \n",
        "print('Number of sequences:', n_patterns)\n"
      ],
      "metadata": {
        "colab": {
          "base_uri": "https://localhost:8080/"
        },
        "id": "8oJE1-ewHzir",
        "outputId": "29bf8375-768c-4635-964c-6e7ab33e2e6e"
      },
      "execution_count": 19,
      "outputs": [
        {
          "output_type": "stream",
          "name": "stdout",
          "text": [
            "Number of sequences: 29281\n"
          ]
        }
      ]
    },
    {
      "cell_type": "code",
      "source": [
        "x = np.zeros((len(sentences), seq_length, n_vocab), dtype=bool)\n",
        "y = np.zeros((len(sentences), n_vocab), dtype=bool)\n",
        "for i, sentence in enumerate(sentences):\n",
        "    for t, char in enumerate(sentence):\n",
        "        x[i, t, char_to_int[char]] = 1\n",
        "    y[i, char_to_int[next_chars[i]]] = 1\n",
        "    \n",
        "print(x.shape)\n",
        "print(y.shape)"
      ],
      "metadata": {
        "colab": {
          "base_uri": "https://localhost:8080/"
        },
        "id": "5pBCGtmZJy2a",
        "outputId": "fc1855a2-338a-45a8-81c1-cd040ef306c4"
      },
      "execution_count": 20,
      "outputs": [
        {
          "output_type": "stream",
          "name": "stdout",
          "text": [
            "(29281, 60, 51)\n",
            "(29281, 51)\n"
          ]
        }
      ]
    },
    {
      "cell_type": "markdown",
      "source": [
        "**Building the model**"
      ],
      "metadata": {
        "id": "wecOrIXBKGhD"
      }
    },
    {
      "cell_type": "code",
      "source": [
        "simpleModel = Sequential()\n",
        "simpleModel.add(LSTM(128, input_shape=(seq_length, n_vocab)))\n",
        "simpleModel.add(Dense(n_vocab, activation=\"softmax\"))\n",
        "\n",
        "optimizer = RMSprop(learning_rate=0.01)\n",
        "simpleModel.compile(loss=\"categorical_crossentropy\", optimizer=optimizer)\n",
        "simpleModel.summary()\n"
      ],
      "metadata": {
        "colab": {
          "base_uri": "https://localhost:8080/"
        },
        "id": "3NS9ahS3KdtI",
        "outputId": "5792868e-4a91-48f1-9f60-d2070c047a5a"
      },
      "execution_count": 27,
      "outputs": [
        {
          "output_type": "stream",
          "name": "stdout",
          "text": [
            "Model: \"sequential_2\"\n",
            "_________________________________________________________________\n",
            " Layer (type)                Output Shape              Param #   \n",
            "=================================================================\n",
            " lstm_2 (LSTM)               (None, 128)               92160     \n",
            "                                                                 \n",
            " dense_2 (Dense)             (None, 51)                6579      \n",
            "                                                                 \n",
            "=================================================================\n",
            "Total params: 98,739\n",
            "Trainable params: 98,739\n",
            "Non-trainable params: 0\n",
            "_________________________________________________________________\n"
          ]
        }
      ]
    },
    {
      "cell_type": "code",
      "source": [
        "deepModel = Sequential()\n",
        "deepModel.add(LSTM(128, return_sequences=True, input_shape=(seq_length, n_vocab)))\n",
        "deepModel.add(Dropout(0.2))\n",
        "deepModel.add(LSTM(128))\n",
        "deepModel.add(Dropout(0.2))\n",
        "deepModel.add(Dense(n_vocab, activation=\"softmax\"))\n",
        "\n",
        "deepModel.compile(loss=\"categorical_crossentropy\", optimizer=optimizer)\n",
        "deepModel.summary()\n"
      ],
      "metadata": {
        "colab": {
          "base_uri": "https://localhost:8080/"
        },
        "id": "WaxGvAbrKJht",
        "outputId": "e7793e75-f978-4e78-9d13-e9400b467107"
      },
      "execution_count": 28,
      "outputs": [
        {
          "output_type": "stream",
          "name": "stdout",
          "text": [
            "Model: \"sequential_3\"\n",
            "_________________________________________________________________\n",
            " Layer (type)                Output Shape              Param #   \n",
            "=================================================================\n",
            " lstm_3 (LSTM)               (None, 60, 128)           92160     \n",
            "                                                                 \n",
            " dropout (Dropout)           (None, 60, 128)           0         \n",
            "                                                                 \n",
            " lstm_4 (LSTM)               (None, 128)               131584    \n",
            "                                                                 \n",
            " dropout_1 (Dropout)         (None, 128)               0         \n",
            "                                                                 \n",
            " dense_3 (Dense)             (None, 51)                6579      \n",
            "                                                                 \n",
            "=================================================================\n",
            "Total params: 230,323\n",
            "Trainable params: 230,323\n",
            "Non-trainable params: 0\n",
            "_________________________________________________________________\n"
          ]
        }
      ]
    },
    {
      "cell_type": "code",
      "source": [
        "from keras.callbacks import ModelCheckpoint\n",
        "\n",
        "filepath=\"saved_weights/saved_weights-{epoch:02d}-{loss:.4f}.hdf5\"\n",
        "checkpointH1 = ModelCheckpoint(filepath, monitor='loss', verbose=1, save_best_only=True, mode='min')\n",
        "checkpointH2 = ModelCheckpoint(filepath, monitor='loss', verbose=1, save_best_only=True, mode='min')\n",
        "\n",
        "callbacks_listH1 = [checkpointH1]\n",
        "callbacks_listH2 = [checkpointH2]\n",
        "\n",
        "\n",
        "# Fit the model\n",
        "\n",
        "history1 = simpleModel.fit(x, y,\n",
        "          batch_size=128,\n",
        "          epochs=50,   \n",
        "          callbacks=callbacks_listH1)\n",
        "\n",
        "history2 = deepModel.fit(x, y, \n",
        "          batch_size=128, \n",
        "          epochs=50, \n",
        "          callbacks=callbacks_listH2)\n",
        "\n",
        "simpleModel.save(\"simpleJungleBookTextPrediction-LSTM-50epochs.h5\")\n",
        "deepModel.save(\"JungleBookTextPrediction-layered LSTN-50epochs.h5\")\n",
        "\n",
        "\n"
      ],
      "metadata": {
        "colab": {
          "base_uri": "https://localhost:8080/"
        },
        "id": "jnMeccQsMBSd",
        "outputId": "95521d48-2619-4fd9-fe1f-40ef9c99d476"
      },
      "execution_count": 30,
      "outputs": [
        {
          "output_type": "stream",
          "name": "stdout",
          "text": [
            "Epoch 1/50\n",
            "229/229 [==============================] - ETA: 0s - loss: 0.6152\n",
            "Epoch 1: loss improved from inf to 0.61522, saving model to saved_weights/saved_weights-01-0.6152.hdf5\n",
            "229/229 [==============================] - 73s 319ms/step - loss: 0.6152\n",
            "Epoch 2/50\n",
            "229/229 [==============================] - ETA: 0s - loss: 0.6135\n",
            "Epoch 2: loss improved from 0.61522 to 0.61355, saving model to saved_weights/saved_weights-02-0.6135.hdf5\n",
            "229/229 [==============================] - 79s 345ms/step - loss: 0.6135\n",
            "Epoch 3/50\n",
            "229/229 [==============================] - ETA: 0s - loss: 0.6027\n",
            "Epoch 3: loss improved from 0.61355 to 0.60273, saving model to saved_weights/saved_weights-03-0.6027.hdf5\n",
            "229/229 [==============================] - 75s 329ms/step - loss: 0.6027\n",
            "Epoch 4/50\n",
            "229/229 [==============================] - ETA: 0s - loss: 0.5901\n",
            "Epoch 4: loss improved from 0.60273 to 0.59010, saving model to saved_weights/saved_weights-04-0.5901.hdf5\n",
            "229/229 [==============================] - 82s 361ms/step - loss: 0.5901\n",
            "Epoch 5/50\n",
            "229/229 [==============================] - ETA: 0s - loss: 0.5905\n",
            "Epoch 5: loss did not improve from 0.59010\n",
            "229/229 [==============================] - 78s 340ms/step - loss: 0.5905\n",
            "Epoch 6/50\n",
            "229/229 [==============================] - ETA: 0s - loss: 0.5905\n",
            "Epoch 6: loss did not improve from 0.59010\n",
            "229/229 [==============================] - 72s 315ms/step - loss: 0.5905\n",
            "Epoch 7/50\n",
            "229/229 [==============================] - ETA: 0s - loss: 0.5810\n",
            "Epoch 7: loss improved from 0.59010 to 0.58095, saving model to saved_weights/saved_weights-07-0.5810.hdf5\n",
            "229/229 [==============================] - 70s 305ms/step - loss: 0.5810\n",
            "Epoch 8/50\n",
            "229/229 [==============================] - ETA: 0s - loss: 0.5772\n",
            "Epoch 8: loss improved from 0.58095 to 0.57721, saving model to saved_weights/saved_weights-08-0.5772.hdf5\n",
            "229/229 [==============================] - 76s 334ms/step - loss: 0.5772\n",
            "Epoch 9/50\n",
            "229/229 [==============================] - ETA: 0s - loss: 0.5666\n",
            "Epoch 9: loss improved from 0.57721 to 0.56663, saving model to saved_weights/saved_weights-09-0.5666.hdf5\n",
            "229/229 [==============================] - 68s 299ms/step - loss: 0.5666\n",
            "Epoch 10/50\n",
            "229/229 [==============================] - ETA: 0s - loss: 0.5575\n",
            "Epoch 10: loss improved from 0.56663 to 0.55754, saving model to saved_weights/saved_weights-10-0.5575.hdf5\n",
            "229/229 [==============================] - 83s 363ms/step - loss: 0.5575\n",
            "Epoch 11/50\n",
            "229/229 [==============================] - ETA: 0s - loss: 0.5575\n",
            "Epoch 11: loss improved from 0.55754 to 0.55752, saving model to saved_weights/saved_weights-11-0.5575.hdf5\n",
            "229/229 [==============================] - 77s 337ms/step - loss: 0.5575\n",
            "Epoch 12/50\n",
            "229/229 [==============================] - ETA: 0s - loss: 0.5457\n",
            "Epoch 12: loss improved from 0.55752 to 0.54570, saving model to saved_weights/saved_weights-12-0.5457.hdf5\n",
            "229/229 [==============================] - 71s 311ms/step - loss: 0.5457\n",
            "Epoch 13/50\n",
            "229/229 [==============================] - ETA: 0s - loss: 0.5448\n",
            "Epoch 13: loss improved from 0.54570 to 0.54476, saving model to saved_weights/saved_weights-13-0.5448.hdf5\n",
            "229/229 [==============================] - 88s 387ms/step - loss: 0.5448\n",
            "Epoch 14/50\n",
            "229/229 [==============================] - ETA: 0s - loss: 0.5436\n",
            "Epoch 14: loss improved from 0.54476 to 0.54360, saving model to saved_weights/saved_weights-14-0.5436.hdf5\n",
            "229/229 [==============================] - 75s 327ms/step - loss: 0.5436\n",
            "Epoch 15/50\n",
            "229/229 [==============================] - ETA: 0s - loss: 0.5267\n",
            "Epoch 15: loss improved from 0.54360 to 0.52674, saving model to saved_weights/saved_weights-15-0.5267.hdf5\n",
            "229/229 [==============================] - 69s 302ms/step - loss: 0.5267\n",
            "Epoch 16/50\n",
            "229/229 [==============================] - ETA: 0s - loss: 0.5261\n",
            "Epoch 16: loss improved from 0.52674 to 0.52605, saving model to saved_weights/saved_weights-16-0.5261.hdf5\n",
            "229/229 [==============================] - 58s 256ms/step - loss: 0.5261\n",
            "Epoch 17/50\n",
            "229/229 [==============================] - ETA: 0s - loss: 0.5110\n",
            "Epoch 17: loss improved from 0.52605 to 0.51105, saving model to saved_weights/saved_weights-17-0.5110.hdf5\n",
            "229/229 [==============================] - 44s 194ms/step - loss: 0.5110\n",
            "Epoch 18/50\n",
            "229/229 [==============================] - ETA: 0s - loss: 0.5155\n",
            "Epoch 18: loss did not improve from 0.51105\n",
            "229/229 [==============================] - 45s 195ms/step - loss: 0.5155\n",
            "Epoch 19/50\n",
            "229/229 [==============================] - ETA: 0s - loss: 0.5110\n",
            "Epoch 19: loss improved from 0.51105 to 0.51097, saving model to saved_weights/saved_weights-19-0.5110.hdf5\n",
            "229/229 [==============================] - 44s 193ms/step - loss: 0.5110\n",
            "Epoch 20/50\n",
            "229/229 [==============================] - ETA: 0s - loss: 0.5000\n",
            "Epoch 20: loss improved from 0.51097 to 0.49996, saving model to saved_weights/saved_weights-20-0.5000.hdf5\n",
            "229/229 [==============================] - 45s 197ms/step - loss: 0.5000\n",
            "Epoch 21/50\n",
            "229/229 [==============================] - ETA: 0s - loss: 0.4921\n",
            "Epoch 21: loss improved from 0.49996 to 0.49214, saving model to saved_weights/saved_weights-21-0.4921.hdf5\n",
            "229/229 [==============================] - 44s 193ms/step - loss: 0.4921\n",
            "Epoch 22/50\n",
            "229/229 [==============================] - ETA: 0s - loss: 0.4873\n",
            "Epoch 22: loss improved from 0.49214 to 0.48727, saving model to saved_weights/saved_weights-22-0.4873.hdf5\n",
            "229/229 [==============================] - 45s 198ms/step - loss: 0.4873\n",
            "Epoch 23/50\n",
            "229/229 [==============================] - ETA: 0s - loss: 0.4803\n",
            "Epoch 23: loss improved from 0.48727 to 0.48029, saving model to saved_weights/saved_weights-23-0.4803.hdf5\n",
            "229/229 [==============================] - 46s 200ms/step - loss: 0.4803\n",
            "Epoch 24/50\n",
            "229/229 [==============================] - ETA: 0s - loss: 0.4778\n",
            "Epoch 24: loss improved from 0.48029 to 0.47780, saving model to saved_weights/saved_weights-24-0.4778.hdf5\n",
            "229/229 [==============================] - 46s 200ms/step - loss: 0.4778\n",
            "Epoch 25/50\n",
            "229/229 [==============================] - ETA: 0s - loss: 0.4713\n",
            "Epoch 25: loss improved from 0.47780 to 0.47129, saving model to saved_weights/saved_weights-25-0.4713.hdf5\n",
            "229/229 [==============================] - 45s 197ms/step - loss: 0.4713\n",
            "Epoch 26/50\n",
            "229/229 [==============================] - ETA: 0s - loss: 0.4710\n",
            "Epoch 26: loss improved from 0.47129 to 0.47102, saving model to saved_weights/saved_weights-26-0.4710.hdf5\n",
            "229/229 [==============================] - 45s 198ms/step - loss: 0.4710\n",
            "Epoch 27/50\n",
            "229/229 [==============================] - ETA: 0s - loss: 0.4688\n",
            "Epoch 27: loss improved from 0.47102 to 0.46877, saving model to saved_weights/saved_weights-27-0.4688.hdf5\n",
            "229/229 [==============================] - 45s 195ms/step - loss: 0.4688\n",
            "Epoch 28/50\n",
            "229/229 [==============================] - ETA: 0s - loss: 0.4666\n",
            "Epoch 28: loss improved from 0.46877 to 0.46665, saving model to saved_weights/saved_weights-28-0.4666.hdf5\n",
            "229/229 [==============================] - 46s 199ms/step - loss: 0.4666\n",
            "Epoch 29/50\n",
            "229/229 [==============================] - ETA: 0s - loss: 0.4558\n",
            "Epoch 29: loss improved from 0.46665 to 0.45576, saving model to saved_weights/saved_weights-29-0.4558.hdf5\n",
            "229/229 [==============================] - 46s 200ms/step - loss: 0.4558\n",
            "Epoch 30/50\n",
            "229/229 [==============================] - ETA: 0s - loss: 0.4504\n",
            "Epoch 30: loss improved from 0.45576 to 0.45037, saving model to saved_weights/saved_weights-30-0.4504.hdf5\n",
            "229/229 [==============================] - 46s 199ms/step - loss: 0.4504\n",
            "Epoch 31/50\n",
            "229/229 [==============================] - ETA: 0s - loss: 0.4488\n",
            "Epoch 31: loss improved from 0.45037 to 0.44883, saving model to saved_weights/saved_weights-31-0.4488.hdf5\n",
            "229/229 [==============================] - 45s 197ms/step - loss: 0.4488\n",
            "Epoch 32/50\n",
            "229/229 [==============================] - ETA: 0s - loss: 0.4504\n",
            "Epoch 32: loss did not improve from 0.44883\n",
            "229/229 [==============================] - 44s 192ms/step - loss: 0.4504\n",
            "Epoch 33/50\n",
            "229/229 [==============================] - ETA: 0s - loss: 0.4544\n",
            "Epoch 33: loss did not improve from 0.44883\n",
            "229/229 [==============================] - 45s 197ms/step - loss: 0.4544\n",
            "Epoch 34/50\n",
            "229/229 [==============================] - ETA: 0s - loss: 0.4441\n",
            "Epoch 34: loss improved from 0.44883 to 0.44412, saving model to saved_weights/saved_weights-34-0.4441.hdf5\n",
            "229/229 [==============================] - 46s 199ms/step - loss: 0.4441\n",
            "Epoch 35/50\n",
            "229/229 [==============================] - ETA: 0s - loss: 0.4394\n",
            "Epoch 35: loss improved from 0.44412 to 0.43937, saving model to saved_weights/saved_weights-35-0.4394.hdf5\n",
            "229/229 [==============================] - 46s 200ms/step - loss: 0.4394\n",
            "Epoch 36/50\n",
            "229/229 [==============================] - ETA: 0s - loss: 0.4307\n",
            "Epoch 36: loss improved from 0.43937 to 0.43069, saving model to saved_weights/saved_weights-36-0.4307.hdf5\n",
            "229/229 [==============================] - 44s 194ms/step - loss: 0.4307\n",
            "Epoch 37/50\n",
            "229/229 [==============================] - ETA: 0s - loss: 0.4324\n",
            "Epoch 37: loss did not improve from 0.43069\n",
            "229/229 [==============================] - 45s 195ms/step - loss: 0.4324\n",
            "Epoch 38/50\n",
            "229/229 [==============================] - ETA: 0s - loss: 0.4244\n",
            "Epoch 38: loss improved from 0.43069 to 0.42443, saving model to saved_weights/saved_weights-38-0.4244.hdf5\n",
            "229/229 [==============================] - 45s 197ms/step - loss: 0.4244\n",
            "Epoch 39/50\n",
            "229/229 [==============================] - ETA: 0s - loss: 0.4237\n",
            "Epoch 39: loss improved from 0.42443 to 0.42373, saving model to saved_weights/saved_weights-39-0.4237.hdf5\n",
            "229/229 [==============================] - 45s 197ms/step - loss: 0.4237\n",
            "Epoch 40/50\n",
            "229/229 [==============================] - ETA: 0s - loss: 0.4166\n",
            "Epoch 40: loss improved from 0.42373 to 0.41660, saving model to saved_weights/saved_weights-40-0.4166.hdf5\n",
            "229/229 [==============================] - 44s 194ms/step - loss: 0.4166\n",
            "Epoch 41/50\n",
            "229/229 [==============================] - ETA: 0s - loss: 0.4049\n",
            "Epoch 41: loss improved from 0.41660 to 0.40489, saving model to saved_weights/saved_weights-41-0.4049.hdf5\n",
            "229/229 [==============================] - 45s 196ms/step - loss: 0.4049\n",
            "Epoch 42/50\n",
            "229/229 [==============================] - ETA: 0s - loss: 0.4126\n",
            "Epoch 42: loss did not improve from 0.40489\n",
            "229/229 [==============================] - 45s 195ms/step - loss: 0.4126\n",
            "Epoch 43/50\n",
            "229/229 [==============================] - ETA: 0s - loss: 0.4002\n",
            "Epoch 43: loss improved from 0.40489 to 0.40020, saving model to saved_weights/saved_weights-43-0.4002.hdf5\n",
            "229/229 [==============================] - 45s 197ms/step - loss: 0.4002\n",
            "Epoch 44/50\n",
            "229/229 [==============================] - ETA: 0s - loss: 0.4037\n",
            "Epoch 44: loss did not improve from 0.40020\n",
            "229/229 [==============================] - 46s 200ms/step - loss: 0.4037\n",
            "Epoch 45/50\n",
            "229/229 [==============================] - ETA: 0s - loss: 0.4003\n",
            "Epoch 45: loss did not improve from 0.40020\n",
            "229/229 [==============================] - 44s 194ms/step - loss: 0.4003\n",
            "Epoch 46/50\n",
            "229/229 [==============================] - ETA: 0s - loss: 0.3964\n",
            "Epoch 46: loss improved from 0.40020 to 0.39636, saving model to saved_weights/saved_weights-46-0.3964.hdf5\n",
            "229/229 [==============================] - 46s 199ms/step - loss: 0.3964\n",
            "Epoch 47/50\n",
            "229/229 [==============================] - ETA: 0s - loss: 0.3953\n",
            "Epoch 47: loss improved from 0.39636 to 0.39533, saving model to saved_weights/saved_weights-47-0.3953.hdf5\n",
            "229/229 [==============================] - 45s 198ms/step - loss: 0.3953\n",
            "Epoch 48/50\n",
            "229/229 [==============================] - ETA: 0s - loss: 0.3891\n",
            "Epoch 48: loss improved from 0.39533 to 0.38906, saving model to saved_weights/saved_weights-48-0.3891.hdf5\n",
            "229/229 [==============================] - 45s 198ms/step - loss: 0.3891\n",
            "Epoch 49/50\n",
            "229/229 [==============================] - ETA: 0s - loss: 0.3916\n",
            "Epoch 49: loss did not improve from 0.38906\n",
            "229/229 [==============================] - 45s 196ms/step - loss: 0.3916\n",
            "Epoch 50/50\n",
            "229/229 [==============================] - ETA: 0s - loss: 0.3824\n",
            "Epoch 50: loss improved from 0.38906 to 0.38245, saving model to saved_weights/saved_weights-50-0.3824.hdf5\n",
            "229/229 [==============================] - 45s 195ms/step - loss: 0.3824\n",
            "Epoch 1/50\n",
            "229/229 [==============================] - ETA: 0s - loss: 1.3442\n",
            "Epoch 1: loss improved from inf to 1.34418, saving model to saved_weights/saved_weights-01-1.3442.hdf5\n",
            "229/229 [==============================] - 101s 439ms/step - loss: 1.3442\n",
            "Epoch 2/50\n",
            "229/229 [==============================] - ETA: 0s - loss: 1.3188\n",
            "Epoch 2: loss improved from 1.34418 to 1.31879, saving model to saved_weights/saved_weights-02-1.3188.hdf5\n",
            "229/229 [==============================] - 101s 441ms/step - loss: 1.3188\n",
            "Epoch 3/50\n",
            "229/229 [==============================] - ETA: 0s - loss: 1.3021\n",
            "Epoch 3: loss improved from 1.31879 to 1.30208, saving model to saved_weights/saved_weights-03-1.3021.hdf5\n",
            "229/229 [==============================] - 102s 444ms/step - loss: 1.3021\n",
            "Epoch 4/50\n",
            "229/229 [==============================] - ETA: 0s - loss: 1.2729\n",
            "Epoch 4: loss improved from 1.30208 to 1.27294, saving model to saved_weights/saved_weights-04-1.2729.hdf5\n",
            "229/229 [==============================] - 101s 440ms/step - loss: 1.2729\n",
            "Epoch 5/50\n",
            "229/229 [==============================] - ETA: 0s - loss: 1.2669\n",
            "Epoch 5: loss improved from 1.27294 to 1.26689, saving model to saved_weights/saved_weights-05-1.2669.hdf5\n",
            "229/229 [==============================] - 102s 447ms/step - loss: 1.2669\n",
            "Epoch 6/50\n",
            "229/229 [==============================] - ETA: 0s - loss: 1.2544\n",
            "Epoch 6: loss improved from 1.26689 to 1.25437, saving model to saved_weights/saved_weights-06-1.2544.hdf5\n",
            "229/229 [==============================] - 101s 441ms/step - loss: 1.2544\n",
            "Epoch 7/50\n",
            "229/229 [==============================] - ETA: 0s - loss: 1.2449\n",
            "Epoch 7: loss improved from 1.25437 to 1.24491, saving model to saved_weights/saved_weights-07-1.2449.hdf5\n",
            "229/229 [==============================] - 102s 448ms/step - loss: 1.2449\n",
            "Epoch 8/50\n",
            "229/229 [==============================] - ETA: 0s - loss: 1.2369\n",
            "Epoch 8: loss improved from 1.24491 to 1.23687, saving model to saved_weights/saved_weights-08-1.2369.hdf5\n",
            "229/229 [==============================] - 101s 439ms/step - loss: 1.2369\n",
            "Epoch 9/50\n",
            "229/229 [==============================] - ETA: 0s - loss: 1.2254\n",
            "Epoch 9: loss improved from 1.23687 to 1.22536, saving model to saved_weights/saved_weights-09-1.2254.hdf5\n",
            "229/229 [==============================] - 102s 445ms/step - loss: 1.2254\n",
            "Epoch 10/50\n",
            "229/229 [==============================] - ETA: 0s - loss: 1.2082\n",
            "Epoch 10: loss improved from 1.22536 to 1.20816, saving model to saved_weights/saved_weights-10-1.2082.hdf5\n",
            "229/229 [==============================] - 101s 441ms/step - loss: 1.2082\n",
            "Epoch 11/50\n",
            "229/229 [==============================] - ETA: 0s - loss: 1.1922\n",
            "Epoch 11: loss improved from 1.20816 to 1.19217, saving model to saved_weights/saved_weights-11-1.1922.hdf5\n",
            "229/229 [==============================] - 102s 444ms/step - loss: 1.1922\n",
            "Epoch 12/50\n",
            "229/229 [==============================] - ETA: 0s - loss: 1.1863\n",
            "Epoch 12: loss improved from 1.19217 to 1.18632, saving model to saved_weights/saved_weights-12-1.1863.hdf5\n",
            "229/229 [==============================] - 101s 443ms/step - loss: 1.1863\n",
            "Epoch 13/50\n",
            "229/229 [==============================] - ETA: 0s - loss: 1.1651\n",
            "Epoch 13: loss improved from 1.18632 to 1.16512, saving model to saved_weights/saved_weights-13-1.1651.hdf5\n",
            "229/229 [==============================] - 102s 444ms/step - loss: 1.1651\n",
            "Epoch 14/50\n",
            "229/229 [==============================] - ETA: 0s - loss: 1.1659\n",
            "Epoch 14: loss did not improve from 1.16512\n",
            "229/229 [==============================] - 101s 442ms/step - loss: 1.1659\n",
            "Epoch 15/50\n",
            "229/229 [==============================] - ETA: 0s - loss: 1.1575\n",
            "Epoch 15: loss improved from 1.16512 to 1.15754, saving model to saved_weights/saved_weights-15-1.1575.hdf5\n",
            "229/229 [==============================] - 102s 445ms/step - loss: 1.1575\n",
            "Epoch 16/50\n",
            "229/229 [==============================] - ETA: 0s - loss: 1.1441\n",
            "Epoch 16: loss improved from 1.15754 to 1.14415, saving model to saved_weights/saved_weights-16-1.1441.hdf5\n",
            "229/229 [==============================] - 101s 442ms/step - loss: 1.1441\n",
            "Epoch 17/50\n",
            "229/229 [==============================] - ETA: 0s - loss: 1.1357\n",
            "Epoch 17: loss improved from 1.14415 to 1.13566, saving model to saved_weights/saved_weights-17-1.1357.hdf5\n",
            "229/229 [==============================] - 104s 453ms/step - loss: 1.1357\n",
            "Epoch 18/50\n",
            "229/229 [==============================] - ETA: 0s - loss: 1.1421\n",
            "Epoch 18: loss did not improve from 1.13566\n",
            "229/229 [==============================] - 102s 447ms/step - loss: 1.1421\n",
            "Epoch 19/50\n",
            "229/229 [==============================] - ETA: 0s - loss: 1.1180\n",
            "Epoch 19: loss improved from 1.13566 to 1.11800, saving model to saved_weights/saved_weights-19-1.1180.hdf5\n",
            "229/229 [==============================] - 101s 443ms/step - loss: 1.1180\n",
            "Epoch 20/50\n",
            "229/229 [==============================] - ETA: 0s - loss: 1.1057\n",
            "Epoch 20: loss improved from 1.11800 to 1.10571, saving model to saved_weights/saved_weights-20-1.1057.hdf5\n",
            "229/229 [==============================] - 104s 453ms/step - loss: 1.1057\n",
            "Epoch 21/50\n",
            "229/229 [==============================] - ETA: 0s - loss: 1.1006\n",
            "Epoch 21: loss improved from 1.10571 to 1.10057, saving model to saved_weights/saved_weights-21-1.1006.hdf5\n",
            "229/229 [==============================] - 102s 445ms/step - loss: 1.1006\n",
            "Epoch 22/50\n",
            "229/229 [==============================] - ETA: 0s - loss: 1.0977\n",
            "Epoch 22: loss improved from 1.10057 to 1.09773, saving model to saved_weights/saved_weights-22-1.0977.hdf5\n",
            "229/229 [==============================] - 104s 454ms/step - loss: 1.0977\n",
            "Epoch 23/50\n",
            "229/229 [==============================] - ETA: 0s - loss: 1.0820\n",
            "Epoch 23: loss improved from 1.09773 to 1.08200, saving model to saved_weights/saved_weights-23-1.0820.hdf5\n",
            "229/229 [==============================] - 103s 450ms/step - loss: 1.0820\n",
            "Epoch 24/50\n",
            "229/229 [==============================] - ETA: 0s - loss: 1.0733\n",
            "Epoch 24: loss improved from 1.08200 to 1.07327, saving model to saved_weights/saved_weights-24-1.0733.hdf5\n",
            "229/229 [==============================] - 102s 447ms/step - loss: 1.0733\n",
            "Epoch 25/50\n",
            "229/229 [==============================] - ETA: 0s - loss: 1.0681\n",
            "Epoch 25: loss improved from 1.07327 to 1.06805, saving model to saved_weights/saved_weights-25-1.0681.hdf5\n",
            "229/229 [==============================] - 102s 446ms/step - loss: 1.0681\n",
            "Epoch 26/50\n",
            "229/229 [==============================] - ETA: 0s - loss: 1.0625\n",
            "Epoch 26: loss improved from 1.06805 to 1.06253, saving model to saved_weights/saved_weights-26-1.0625.hdf5\n",
            "229/229 [==============================] - 104s 453ms/step - loss: 1.0625\n",
            "Epoch 27/50\n",
            "229/229 [==============================] - ETA: 0s - loss: 1.0578\n",
            "Epoch 27: loss improved from 1.06253 to 1.05778, saving model to saved_weights/saved_weights-27-1.0578.hdf5\n",
            "229/229 [==============================] - 103s 451ms/step - loss: 1.0578\n",
            "Epoch 28/50\n",
            "229/229 [==============================] - ETA: 0s - loss: 1.0543\n",
            "Epoch 28: loss improved from 1.05778 to 1.05427, saving model to saved_weights/saved_weights-28-1.0543.hdf5\n",
            "229/229 [==============================] - 104s 454ms/step - loss: 1.0543\n",
            "Epoch 29/50\n",
            "229/229 [==============================] - ETA: 0s - loss: 1.0444\n",
            "Epoch 29: loss improved from 1.05427 to 1.04437, saving model to saved_weights/saved_weights-29-1.0444.hdf5\n",
            "229/229 [==============================] - 101s 444ms/step - loss: 1.0444\n",
            "Epoch 30/50\n",
            "229/229 [==============================] - ETA: 0s - loss: 1.0348\n",
            "Epoch 30: loss improved from 1.04437 to 1.03483, saving model to saved_weights/saved_weights-30-1.0348.hdf5\n",
            "229/229 [==============================] - 103s 447ms/step - loss: 1.0348\n",
            "Epoch 31/50\n",
            "229/229 [==============================] - ETA: 0s - loss: 1.0252\n",
            "Epoch 31: loss improved from 1.03483 to 1.02524, saving model to saved_weights/saved_weights-31-1.0252.hdf5\n",
            "229/229 [==============================] - 105s 458ms/step - loss: 1.0252\n",
            "Epoch 32/50\n",
            "229/229 [==============================] - ETA: 0s - loss: 1.0148\n",
            "Epoch 32: loss improved from 1.02524 to 1.01480, saving model to saved_weights/saved_weights-32-1.0148.hdf5\n",
            "229/229 [==============================] - 102s 447ms/step - loss: 1.0148\n",
            "Epoch 33/50\n",
            "229/229 [==============================] - ETA: 0s - loss: 1.0160\n",
            "Epoch 33: loss did not improve from 1.01480\n",
            "229/229 [==============================] - 102s 446ms/step - loss: 1.0160\n",
            "Epoch 34/50\n",
            "229/229 [==============================] - ETA: 0s - loss: 0.9980\n",
            "Epoch 34: loss improved from 1.01480 to 0.99804, saving model to saved_weights/saved_weights-34-0.9980.hdf5\n",
            "229/229 [==============================] - 104s 454ms/step - loss: 0.9980\n",
            "Epoch 35/50\n",
            "229/229 [==============================] - ETA: 0s - loss: 0.9929\n",
            "Epoch 35: loss improved from 0.99804 to 0.99286, saving model to saved_weights/saved_weights-35-0.9929.hdf5\n",
            "229/229 [==============================] - 104s 453ms/step - loss: 0.9929\n",
            "Epoch 36/50\n",
            "229/229 [==============================] - ETA: 0s - loss: 0.9924\n",
            "Epoch 36: loss improved from 0.99286 to 0.99242, saving model to saved_weights/saved_weights-36-0.9924.hdf5\n",
            "229/229 [==============================] - 105s 456ms/step - loss: 0.9924\n",
            "Epoch 37/50\n",
            "229/229 [==============================] - ETA: 0s - loss: 0.9834\n",
            "Epoch 37: loss improved from 0.99242 to 0.98341, saving model to saved_weights/saved_weights-37-0.9834.hdf5\n",
            "229/229 [==============================] - 104s 456ms/step - loss: 0.9834\n",
            "Epoch 38/50\n",
            "229/229 [==============================] - ETA: 0s - loss: 0.9733\n",
            "Epoch 38: loss improved from 0.98341 to 0.97333, saving model to saved_weights/saved_weights-38-0.9733.hdf5\n",
            "229/229 [==============================] - 104s 453ms/step - loss: 0.9733\n",
            "Epoch 39/50\n",
            "229/229 [==============================] - ETA: 0s - loss: 0.9659\n",
            "Epoch 39: loss improved from 0.97333 to 0.96587, saving model to saved_weights/saved_weights-39-0.9659.hdf5\n",
            "229/229 [==============================] - 102s 444ms/step - loss: 0.9659\n",
            "Epoch 40/50\n",
            "229/229 [==============================] - ETA: 0s - loss: 0.9663\n",
            "Epoch 40: loss did not improve from 0.96587\n",
            "229/229 [==============================] - 102s 446ms/step - loss: 0.9663\n",
            "Epoch 41/50\n",
            "229/229 [==============================] - ETA: 0s - loss: 0.9600\n",
            "Epoch 41: loss improved from 0.96587 to 0.96004, saving model to saved_weights/saved_weights-41-0.9600.hdf5\n",
            "229/229 [==============================] - 102s 448ms/step - loss: 0.9600\n",
            "Epoch 42/50\n",
            "229/229 [==============================] - ETA: 0s - loss: 0.9449\n",
            "Epoch 42: loss improved from 0.96004 to 0.94487, saving model to saved_weights/saved_weights-42-0.9449.hdf5\n",
            "229/229 [==============================] - 101s 443ms/step - loss: 0.9449\n",
            "Epoch 43/50\n",
            "229/229 [==============================] - ETA: 0s - loss: 0.9464\n",
            "Epoch 43: loss did not improve from 0.94487\n",
            "229/229 [==============================] - 102s 444ms/step - loss: 0.9464\n",
            "Epoch 44/50\n",
            "229/229 [==============================] - ETA: 0s - loss: 0.9436\n",
            "Epoch 44: loss improved from 0.94487 to 0.94359, saving model to saved_weights/saved_weights-44-0.9436.hdf5\n",
            "229/229 [==============================] - 102s 447ms/step - loss: 0.9436\n",
            "Epoch 45/50\n",
            "229/229 [==============================] - ETA: 0s - loss: 0.9307\n",
            "Epoch 45: loss improved from 0.94359 to 0.93072, saving model to saved_weights/saved_weights-45-0.9307.hdf5\n",
            "229/229 [==============================] - 104s 453ms/step - loss: 0.9307\n",
            "Epoch 46/50\n",
            "229/229 [==============================] - ETA: 0s - loss: 0.9311\n",
            "Epoch 46: loss did not improve from 0.93072\n",
            "229/229 [==============================] - 102s 447ms/step - loss: 0.9311\n",
            "Epoch 47/50\n",
            "229/229 [==============================] - ETA: 0s - loss: 0.9218\n",
            "Epoch 47: loss improved from 0.93072 to 0.92177, saving model to saved_weights/saved_weights-47-0.9218.hdf5\n",
            "229/229 [==============================] - 103s 449ms/step - loss: 0.9218\n",
            "Epoch 48/50\n",
            "229/229 [==============================] - ETA: 0s - loss: 0.9193\n",
            "Epoch 48: loss improved from 0.92177 to 0.91933, saving model to saved_weights/saved_weights-48-0.9193.hdf5\n",
            "229/229 [==============================] - 104s 453ms/step - loss: 0.9193\n",
            "Epoch 49/50\n",
            "229/229 [==============================] - ETA: 0s - loss: 0.9170\n",
            "Epoch 49: loss improved from 0.91933 to 0.91698, saving model to saved_weights/saved_weights-49-0.9170.hdf5\n",
            "229/229 [==============================] - 103s 449ms/step - loss: 0.9170\n",
            "Epoch 50/50\n",
            "229/229 [==============================] - ETA: 0s - loss: 0.9030\n",
            "Epoch 50: loss improved from 0.91698 to 0.90296, saving model to saved_weights/saved_weights-50-0.9030.hdf5\n",
            "229/229 [==============================] - 104s 453ms/step - loss: 0.9030\n"
          ]
        }
      ]
    },
    {
      "cell_type": "markdown",
      "source": [
        "**Testing Model**"
      ],
      "metadata": {
        "id": "9XvEB4OaPcMn"
      }
    },
    {
      "cell_type": "code",
      "source": [
        "from matplotlib import pyplot as plt\n",
        "#plot the training and validation accuracy and loss at each epoch\n",
        "loss = history1.history['loss']\n",
        "epochs = range(1, len(loss) + 1)\n",
        "plt.plot(epochs, loss, 'y', label='Training loss')\n",
        "plt.title('Training loss')\n",
        "plt.xlabel('Epochs')\n",
        "plt.ylabel('Loss')\n",
        "plt.legend()\n",
        "plt.show()\n",
        "\n",
        "loss = history2.history['loss']\n",
        "epochs = range(1, len(loss) + 1)\n",
        "plt.plot(epochs, loss, 'y', label='Training loss')\n",
        "plt.title('Training loss')\n",
        "plt.xlabel('Epochs')\n",
        "plt.ylabel('Loss')\n",
        "plt.legend()\n",
        "plt.show()"
      ],
      "metadata": {
        "colab": {
          "base_uri": "https://localhost:8080/",
          "height": 927
        },
        "id": "jTYy04rNPYiM",
        "outputId": "484d2066-551f-4567-a07f-4b0ce84df6b4"
      },
      "execution_count": 32,
      "outputs": [
        {
          "output_type": "display_data",
          "data": {
            "text/plain": [
              "<Figure size 640x480 with 1 Axes>"
            ],
            "image/png": "[encoded data removed]"
          },
          "metadata": {}
        },
        {
          "output_type": "display_data",
          "data": {
            "text/plain": [
              "<Figure size 640x480 with 1 Axes>"
            ],
            "image/png": "[encoded data removed]"
          },
          "metadata": {}
        }
      ]
    },
    {
      "cell_type": "code",
      "source": [
        "def sample(preds):\n",
        "    preds = np.asarray(preds).astype('float64')\n",
        "    preds = np.log(preds)\n",
        "    exp_preds = np.exp(preds) #exp of log (x), isn't this same as x??\n",
        "    preds = exp_preds / np.sum(exp_preds)\n",
        "    probas = np.random.multinomial(1, preds, 1) \n",
        "    return np.argmax(probas)"
      ],
      "metadata": {
        "id": "kT3WxlFGPgtk"
      },
      "execution_count": 33,
      "outputs": []
    },
    {
      "cell_type": "code",
      "source": [
        "filename = \"JungleBookTextPrediction-layered LSTN-50epochs.h5\"\n",
        "deepModel.load_weights(filename)\n",
        "\n",
        "#Pick a random sentence from the text as seed.\n",
        "start_index = random.randint(0, n_chars - seq_length - 1)\n",
        "\n",
        "#Initiate generated text and keep adding new predictions and print them out\n",
        "generated = ''\n",
        "sentence = raw_text[start_index: start_index + seq_length]\n",
        "generated += sentence\n",
        "\n",
        "print('----- Seed for our text prediction: \"' + sentence + '\"')"
      ],
      "metadata": {
        "colab": {
          "base_uri": "https://localhost:8080/"
        },
        "id": "HE1GmgP3PkCX",
        "outputId": "c0c55d1b-c439-4136-aa39-0197a4e9ae44"
      },
      "execution_count": 34,
      "outputs": [
        {
          "output_type": "stream",
          "name": "stdout",
          "text": [
            "----- Seed for our text prediction: \" his trumpet.\n",
            "\n",
            "“stop that!” said billy and the troop horse t\"\n"
          ]
        }
      ]
    },
    {
      "cell_type": "code",
      "source": [
        "for i in range(400):   # Number of characters including spaces\n",
        "    x_pred = np.zeros((1, seq_length, n_vocab))\n",
        "    for t, char in enumerate(sentence):\n",
        "        x_pred[0, t, char_to_int[char]] = 1.\n",
        "\n",
        "    preds = simpleModel.predict(x_pred, verbose=0)[0]\n",
        "    next_index = sample(preds)\n",
        "    next_char = int_to_char[next_index]\n",
        "\n",
        "    generated += next_char\n",
        "    sentence = sentence[1:] + next_char\n",
        "\n",
        "    sys.stdout.write(next_char)\n",
        "    sys.stdout.flush()\n",
        "print()"
      ],
      "metadata": {
        "colab": {
          "base_uri": "https://localhost:8080/"
        },
        "id": "uMOcXGncPk3k",
        "outputId": "0087dbbc-23c9-4b6b-e637-f8730635d8eb"
      },
      "execution_count": 35,
      "outputs": [
        {
          "output_type": "stream",
          "name": "stdout",
          "text": [
            "ime and the merow his dry not to the tore to be strange me sahcle into kill,\n",
            "        les not\n",
            "\n",
            "him, “he has crming, liveliceved without the councal in the fullow says up into kill, higr you\n",
            "can’s leg fellow scortione of the stcrother and gruntl men the conornesing him too till leter as the sey saador tike\n",
            "\n",
            "yould showly sick and just usching in the serle to the torain and littlight at was thust at d\n"
          ]
        }
      ]
    }
  ]
}